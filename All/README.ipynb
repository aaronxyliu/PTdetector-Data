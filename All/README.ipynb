{
 "cells": [
  {
   "attachments": {},
   "cell_type": "markdown",
   "metadata": {},
   "source": [
    "### Experiment Data Used in Paper \"PTdetector: Automated JavaScript Front-end Library Detector\"\n",
    "\n",
    "All the related experiment data is arranged as follow.\n",
    "\n",
    "`pt_stat.csv` @ Each entry represents a JavaScript file and its pTree statistics\n",
    "- `file_id`: The ID of the file\n",
    "- `library`: The library name\n",
    "- `file`: The file name\n",
    "- `size`: The number of vertices in the pTree\n",
    "- `depth`: The depth of the pTree\n",
    "- `# back edges`: The number of back edges during pTree generation\n",
    "- `# identifiers`: The number of identifiers in the pTree\n",
    "- `# random_vertices`: The number of random-generated vertices removed during the feature generation workflow\n",
    "\n",
    "`ranks.SEMrushRanks-us.csv` @ Download from SEMRUSH websites US traffic ranking on Feb 23, 2023.\n",
    "\n",
    "`detection_result.csv` @ The detection result after applying LDC, Wappalyzer, and PTdetector on 80 top-traffic web pages.\n",
    "- `domain`: The domain name\n",
    "- `rank`: The domain rank\n",
    "- `url`: The home page url under the domain\n",
    "- `ground truth`: The ground truth library loaded on the web page\n",
    "- `LDC`: The libraries identified by LDC\n",
    "- `Wappalyzer`: The libraries identified by Wappalyzer\n",
    "- `PTdetector`: The libraries identified by PTdetector\n",
    "- `comment`: Optional comment\n",
    "\n",
    "`result_diff_set.csv` @ The detection result of PTdetector under different settings.\n",
    "- `domain`: The domain name\n",
    "- `rank`: The domain rank\n",
    "- `url`: The home page url under the domain\n",
    "- `ground truth`: The ground truth library loaded on the web page\n",
    "- `auto_5_<size limit>`: The detection result of PTdetector under a given `<size limit>` (depth limit is 5)\n",
    "- `time_5_<size limit>`: The average detection overhead (ms) of PTdetector under a given `<size limit>` (depth limit is 5). For each web page, we run the detection five times and calculate the average value.\n",
    "\n"
   ]
  },
  {
   "attachments": {},
   "cell_type": "markdown",
   "metadata": {},
   "source": [
    "#### Note\n",
    "\n",
    "In our dataset, we use the string with format `<libname> @ <version> : <score> ! <depth>` to represent the library identified by detectors. For example, string `jQuery@3.6.3:99.8!1` means that jQuery (v3.6.3) is identified with a score of 99.8 at the first layer of the web page pTree."
   ]
  }
 ],
 "metadata": {
  "kernelspec": {
   "display_name": "Python 3",
   "language": "python",
   "name": "python3"
  },
  "language_info": {
   "codemirror_mode": {
    "name": "ipython",
    "version": 3
   },
   "file_extension": ".py",
   "mimetype": "text/x-python",
   "name": "python",
   "nbconvert_exporter": "python",
   "pygments_lexer": "ipython3",
   "version": "3.9.6 (default, Oct 18 2022, 12:41:40) \n[Clang 14.0.0 (clang-1400.0.29.202)]"
  },
  "orig_nbformat": 4,
  "vscode": {
   "interpreter": {
    "hash": "31f2aee4e71d21fbe5cf8b01ff0e069b9275f58929596ceb00d14d90e3e16cd6"
   }
  }
 },
 "nbformat": 4,
 "nbformat_minor": 2
}
