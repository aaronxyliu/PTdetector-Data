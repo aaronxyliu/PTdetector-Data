{
 "cells": [
  {
   "attachments": {},
   "cell_type": "markdown",
   "metadata": {},
   "source": [
    "### Table 3: Detection Performance Comparison of Three Detectors on 80 Web Pages\n",
    "\n",
    "The related experiment data is arranged as follow.\n",
    "\n",
    "`ranks.SEMrushRanks-us.csv` @ Download from SEMRUSH websites US traffic ranking on Feb 23, 2023.\n",
    "\n",
    "`detection_result.csv` @ The detection result after applying LDC, Wappalyzer, and PTdetector on 80 top-traffic web pages.\n",
    "- `domain`: The domain name\n",
    "- `rank`: The domain rank\n",
    "- `url`: The home page url under the domain\n",
    "- `ground truth`: The ground truth library loaded on the web page\n",
    "- `LDC`: The libraries identified by LDC\n",
    "- `Wappalyzer`: The libraries identified by Wappalyzer\n",
    "- `PTdetector`: The libraries identified by PTdetector\n",
    "- `comment`: Optional comment"
   ]
  },
  {
   "attachments": {},
   "cell_type": "markdown",
   "metadata": {},
   "source": [
    "We define a class named `ConfMatrix` to provide basic functions to confusion matrix related calculation."
   ]
  },
  {
   "cell_type": "code",
   "execution_count": 30,
   "metadata": {},
   "outputs": [],
   "source": [
    "class ConfMatrix():\n",
    "    def __init__(self, black_list=[]):\n",
    "        self.BLACK_LIST = black_list\n",
    "        self.TOTAL_LIB_NUM = 83\n",
    "\n",
    "    def confusionMatrix(self, truelist, list):\n",
    "        tp = 0\n",
    "        for item in list:\n",
    "            if item['name'] in [item2['name'] for item2 in truelist]:\n",
    "                tp += 1\n",
    "        fn = len(truelist) - tp\n",
    "\n",
    "        fp = 0\n",
    "        for item in list:\n",
    "            if item['name'] not in [item2['name'] for item2 in truelist]:\n",
    "                fp += 1\n",
    "                \n",
    "        tn = self.TOTAL_LIB_NUM - len(self.BLACK_LIST) - tp - fn - fp\n",
    "\n",
    "        return tp, fn, fp, tn\n",
    "\n",
    "    def calValue(self, TP, FN, FP, TN):\n",
    "        # Accuracy\n",
    "        Accu = round((TP + TN) * 100 / (TP + FP + FN + TN), 2)\n",
    "        # Precision\n",
    "        Pre = round(TP * 100 / (TP + FP), 2)\n",
    "        # Recall\n",
    "        Recall = round(TP * 100 / (TP + FN), 2)\n",
    "\n",
    "        return Accu, Pre, Recall\n",
    "\n",
    "    def filter(self, list, threshold=50):\n",
    "        # Receive library object list\n",
    "        new_list = []\n",
    "        for lib_obj in list:\n",
    "            if lib_obj[\"score\"] == None or lib_obj[\"score\"] >= threshold:\n",
    "                new_list.append(lib_obj)          \n",
    "        return new_list\n",
    "    \n",
    "    def convertToObject(self, str_list):\n",
    "        # <libname> @ <version> : <score> ! <depth>\n",
    "        obj_list = []\n",
    "        for str in str_list:\n",
    "            obj = {}\n",
    "            _depth_pos = str.find('!')\n",
    "            if _depth_pos != -1:\n",
    "                obj['depth'] = int(str[_depth_pos + 1:])\n",
    "                str = str[:_depth_pos]\n",
    "            else:\n",
    "                obj['depth'] = None\n",
    "\n",
    "            _colon_pos = str.find(':')\n",
    "            if _colon_pos != -1:\n",
    "                obj['score'] = float(str[_colon_pos + 1:])\n",
    "                str = str[:_colon_pos]\n",
    "            else:\n",
    "                obj['score'] = None\n",
    "\n",
    "            _at_pos = str.find('@')\n",
    "            if _at_pos != -1:\n",
    "                obj['version'] = str[_at_pos + 1:]\n",
    "                str = str[:_at_pos]\n",
    "            else:\n",
    "                obj['version'] = None\n",
    "\n",
    "            obj['name'] = str\n",
    "\n",
    "            if str not in self.BLACK_LIST:\n",
    "                obj_list.append(obj)\n",
    "\n",
    "        return obj_list"
   ]
  },
  {
   "attachments": {},
   "cell_type": "markdown",
   "metadata": {},
   "source": [
    "Following code calculates the accuracy, precision, and recall value of three detectors."
   ]
  },
  {
   "cell_type": "code",
   "execution_count": 31,
   "metadata": {},
   "outputs": [
    {
     "name": "stdout",
     "output_type": "stream",
     "text": [
      "\t\tAccuracy\tPrecision\tRecall\n",
      "LDC\t\t99.1%\t\t96.59%\t\t83.33%\n",
      "Wappalyzer\t98.63%\t\t94.61%\t\t74.51%\n",
      "PTdetector\t99.41%\t\t96.84%\t\t90.2%\n",
      "PTdetector\t99.43%\t\t100.0%\t\t87.58%\n",
      "PTdetector\t99.25%\t\t100.0%\t\t83.66%\n"
     ]
    }
   ],
   "source": [
    "import json\n",
    "import pandas as pd\n",
    "\n",
    "CM = ConfMatrix()\n",
    "df= pd.read_csv(\"./detection_result.csv\",delimiter=';')\n",
    "gt_column = df['ground truth'].tolist()\n",
    "\n",
    "def analyze(tool_name, threshold):\n",
    "    TP, FN, FP, TN = 0, 0, 0, 0\n",
    "    tool_column = df[tool_name].tolist()\n",
    "\n",
    "    for i in range(len(tool_column)):\n",
    "        # Decode library result string\n",
    "        list0 = CM.convertToObject(json.loads(gt_column[i]))\n",
    "        list1 = CM.convertToObject(json.loads(tool_column[i]))\n",
    "\n",
    "        # Filter based on score threshold\n",
    "        if threshold != None:\n",
    "            list1 = CM.filter(list1, threshold)\n",
    "            \n",
    "        tp, fn, fp, tn = CM.confusionMatrix(list0, list1)\n",
    "        TP += tp\n",
    "        FN += fn\n",
    "        FP += fp\n",
    "        TN += tn\n",
    "\n",
    "    # Calculate the accuracy, precision, and recall\n",
    "    a, p, r = CM.calValue(TP, FN, FP, TN)\n",
    "    if len(tool_name) <5:\n",
    "        tool_name += '\\t'\n",
    "    print(f\"{tool_name}\\t{a}%\\t\\t{p}%\\t\\t{r}%\")\n",
    "\n",
    "if __name__ == \"__main__\":\n",
    "    print(\"\\t\\tAccuracy\\tPrecision\\tRecall\")\n",
    "    analyze('LDC', None)\n",
    "    analyze('Wappalyzer', None)\n",
    "    analyze('PTdetector', 57)\n",
    "    analyze('PTdetector', 70)\n",
    "    analyze('PTdetector', 77)\n"
   ]
  }
 ],
 "metadata": {
  "kernelspec": {
   "display_name": "Python 3",
   "language": "python",
   "name": "python3"
  },
  "language_info": {
   "codemirror_mode": {
    "name": "ipython",
    "version": 3
   },
   "file_extension": ".py",
   "mimetype": "text/x-python",
   "name": "python",
   "nbconvert_exporter": "python",
   "pygments_lexer": "ipython3",
   "version": "3.9.6"
  },
  "orig_nbformat": 4,
  "vscode": {
   "interpreter": {
    "hash": "31f2aee4e71d21fbe5cf8b01ff0e069b9275f58929596ceb00d14d90e3e16cd6"
   }
  }
 },
 "nbformat": 4,
 "nbformat_minor": 2
}
