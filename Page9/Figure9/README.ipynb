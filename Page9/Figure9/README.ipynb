{
 "cells": [
  {
   "attachments": {},
   "cell_type": "markdown",
   "metadata": {},
   "source": [
    "### Figure 9: PTdetector Detection Performance after Excluding Frameworks\n",
    "\n",
    "The related experiment data is arranged as follow.\n",
    "\n",
    "`detection_result.csv` @ The detection result after applying PTdetector on 80 top-traffic web pages.\n",
    "- `domain`: The domain name\n",
    "- `rank`: The domain rank\n",
    "- `url`: The home page url under the domain\n",
    "- `ground truth`: The ground truth library loaded on the web page\n",
    "- `PTdetector`: The libraries identified by PTdetector"
   ]
  },
  {
   "attachments": {},
   "cell_type": "markdown",
   "metadata": {},
   "source": [
    "We define a class named `ConfMatrix` to provide basic functions to confusion matrix related calculation."
   ]
  },
  {
   "cell_type": "code",
   "execution_count": 1,
   "metadata": {},
   "outputs": [],
   "source": [
    "class ConfMatrix():\n",
    "    def __init__(self, black_list=[]):\n",
    "        self.BLACK_LIST = black_list\n",
    "        self.TOTAL_LIB_NUM = 83\n",
    "\n",
    "    def confusionMatrix(self, truelist, list):\n",
    "        tp = 0\n",
    "        for item in list:\n",
    "            if item['name'] in [item2['name'] for item2 in truelist]:\n",
    "                tp += 1\n",
    "        fn = len(truelist) - tp\n",
    "\n",
    "        fp = 0\n",
    "        for item in list:\n",
    "            if item['name'] not in [item2['name'] for item2 in truelist]:\n",
    "                fp += 1\n",
    "                \n",
    "        tn = self.TOTAL_LIB_NUM - len(self.BLACK_LIST) - tp - fn - fp\n",
    "\n",
    "        return tp, fn, fp, tn\n",
    "\n",
    "    def calValue(self, TP, FN, FP, TN):\n",
    "        # Accuracy\n",
    "        Accu = round((TP + TN) * 100 / (TP + FP + FN + TN), 2)\n",
    "        # Precision\n",
    "        Pre = round(TP * 100 / (TP + FP), 2)\n",
    "        # Recall\n",
    "        Recall = round(TP * 100 / (TP + FN), 2)\n",
    "\n",
    "        return Accu, Pre, Recall\n",
    "\n",
    "    def filter(self, list, threshold=50):\n",
    "        # Receive library object list\n",
    "        new_list = []\n",
    "        for lib_obj in list:\n",
    "            if lib_obj[\"score\"] == None or lib_obj[\"score\"] >= threshold:\n",
    "                new_list.append(lib_obj)          \n",
    "        return new_list\n",
    "    \n",
    "    def convertToObject(self, str_list):\n",
    "        # <libname> @ <version> : <score> ! <depth>\n",
    "        obj_list = []\n",
    "        for str in str_list:\n",
    "            obj = {}\n",
    "            _depth_pos = str.find('!')\n",
    "            if _depth_pos != -1:\n",
    "                obj['depth'] = int(str[_depth_pos + 1:])\n",
    "                str = str[:_depth_pos]\n",
    "            else:\n",
    "                obj['depth'] = None\n",
    "\n",
    "            _colon_pos = str.find(':')\n",
    "            if _colon_pos != -1:\n",
    "                obj['score'] = float(str[_colon_pos + 1:])\n",
    "                str = str[:_colon_pos]\n",
    "            else:\n",
    "                obj['score'] = None\n",
    "\n",
    "            _at_pos = str.find('@')\n",
    "            if _at_pos != -1:\n",
    "                obj['version'] = str[_at_pos + 1:]\n",
    "                str = str[:_at_pos]\n",
    "            else:\n",
    "                obj['version'] = None\n",
    "\n",
    "            obj['name'] = str\n",
    "\n",
    "            if str not in self.BLACK_LIST:\n",
    "                obj_list.append(obj)\n",
    "\n",
    "        return obj_list"
   ]
  },
  {
   "attachments": {},
   "cell_type": "markdown",
   "metadata": {},
   "source": [
    "Following code collects accuracy, precision, and recall of PTdetector under different score threshold setting, and draw on a line plot."
   ]
  },
  {
   "cell_type": "code",
   "execution_count": 7,
   "metadata": {},
   "outputs": [
    {
     "data": {
      "image/png": "[encoded data removed]",
      "text/plain": [
       "<Figure size 500x220 with 1 Axes>"
      ]
     },
     "metadata": {},
     "output_type": "display_data"
    }
   ],
   "source": [
    "import json\n",
    "import pandas as pd\n",
    "import matplotlib.pyplot as plt\n",
    "\n",
    "CM = ConfMatrix(black_list=[\"Bootstrap\",\"Ext JS\",\"Preact\",\"React\",\"Vue\",\"Angular\"])\n",
    "\n",
    "df= pd.read_csv(\"./detection_result.csv\",delimiter=';')\n",
    "gt_column = df['ground truth'].tolist()\n",
    "tool_column = df['PTdetector'].tolist()\n",
    "\n",
    "def analyze(threshold):\n",
    "    TP, FN, FP, TN = 0, 0, 0, 0\n",
    "    for i in range(len(tool_column)):\n",
    "        # Decode library result string\n",
    "        list0 = CM.convertToObject(json.loads(gt_column[i]))\n",
    "        list1 = CM.convertToObject(json.loads(tool_column[i]))\n",
    "\n",
    "        # Filter based on score threshold\n",
    "        if threshold != None:\n",
    "            list1 = CM.filter(list1, threshold)\n",
    "            \n",
    "        tp, fn, fp, tn = CM.confusionMatrix(list0, list1)\n",
    "        TP += tp\n",
    "        FN += fn\n",
    "        FP += fp\n",
    "        TN += tn\n",
    "\n",
    "    return CM.calValue(TP, FN, FP, TN)\n",
    "\n",
    "if __name__ == \"__main__\":\n",
    "    thresholds = []\n",
    "    accus = []\n",
    "    precs = []\n",
    "    recalls = []\n",
    "    for v in range(50, 90, 5):\n",
    "        a, p, r = analyze(v)\n",
    "        thresholds.append(v)\n",
    "        accus.append(a)\n",
    "        precs.append(p)\n",
    "        recalls.append(r)\n",
    "    \n",
    "    # plot reference: https://matplotlib.org/stable/api/_as_gen/matplotlib.pyplot.plot.html\n",
    "    plt.plot(thresholds, accus, 's-', color='mediumseagreen', label='Accuracy')\n",
    "    plt.plot(thresholds, precs, 'o-', color='#f47070', label='Precision')\n",
    "    plt.plot(thresholds, recalls, 'v-', color='cornflowerblue', label='Recall')\n",
    "    plt.xlabel(\"Threshold\")\n",
    "    plt.ylabel(\"Value\")\n",
    "    plt.legend(loc=\"best\")\n",
    "    plt.rcParams['figure.figsize'] = [5, 2.2]\n",
    "    plt.show()"
   ]
  }
 ],
 "metadata": {
  "kernelspec": {
   "display_name": "Python 3",
   "language": "python",
   "name": "python3"
  },
  "language_info": {
   "codemirror_mode": {
    "name": "ipython",
    "version": 3
   },
   "file_extension": ".py",
   "mimetype": "text/x-python",
   "name": "python",
   "nbconvert_exporter": "python",
   "pygments_lexer": "ipython3",
   "version": "3.9.6"
  },
  "orig_nbformat": 4,
  "vscode": {
   "interpreter": {
    "hash": "31f2aee4e71d21fbe5cf8b01ff0e069b9275f58929596ceb00d14d90e3e16cd6"
   }
  }
 },
 "nbformat": 4,
 "nbformat_minor": 2
}
