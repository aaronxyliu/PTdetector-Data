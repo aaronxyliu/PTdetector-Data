{
 "cells": [
  {
   "attachments": {},
   "cell_type": "markdown",
   "metadata": {},
   "source": [
    "### Table 2: pTree Statistics\n",
    "\n",
    "The related experiment data is arranged as follow.\n",
    "\n",
    "`pt_stat.csv` @ Each entry represents a JavaScript file and its pTree statistics\n",
    "- `file_id`: The ID of the file\n",
    "- `library`: The library name\n",
    "- `file`: The file name\n",
    "- `size`: The number of vertices in the pTree\n",
    "- `depth`: The depth of the pTree\n",
    "- `# back edges`: The number of back edges during pTree generation\n",
    "- `# identifiers`: The number of identifiers in the pTree\n",
    "- `# random_vertices`: The number of random-generated vertices removed during the feature generation workflow"
   ]
  },
  {
   "attachments": {},
   "cell_type": "markdown",
   "metadata": {},
   "source": [
    "Following code calculates pTree statistics."
   ]
  },
  {
   "cell_type": "code",
   "execution_count": 12,
   "metadata": {},
   "outputs": [
    {
     "name": "stdout",
     "output_type": "stream",
     "text": [
      "\t\tAverage\tMedian\t Max\t Min\n",
      "Size:\t\t1239.6\t112.0\t10000\t  3\n",
      "Deth:\t\t4.6\t4.0\t15\t  1\n",
      "# Back Edges:\t9.7\t0.0\t244\t  0\n",
      "# Identifiers:\t4.1\t1.0\t68\t  1\n"
     ]
    }
   ],
   "source": [
    "import pandas as pd\n",
    "import numpy as np\n",
    "\n",
    "df= pd.read_csv(\"./pt_stat.csv\")\n",
    "\n",
    "size_list = df['size'].tolist()\n",
    "depth_list = df['depth'].tolist()\n",
    "be_list = df['# back edges'].tolist()\n",
    "idt_list = df['# identifiers'].tolist()\n",
    "\n",
    "print('\\t\\tAverage\\tMedian\\t Max\\t Min')\n",
    "print(f'Size:\\t\\t{round(np.mean(size_list),1)}\\t{np.median(size_list)}\\t{max(size_list)}\\t  {min(size_list)}')\n",
    "print(f'Deth:\\t\\t{round(np.mean(depth_list),1)}\\t{np.median(depth_list)}\\t{max(depth_list)}\\t  {min(depth_list)}')\n",
    "print(f'# Back Edges:\\t{round(np.mean(be_list),1)}\\t{np.median(be_list)}\\t{max(be_list)}\\t  {min(be_list)}')\n",
    "print(f'# Identifiers:\\t{round(np.mean(idt_list),1)}\\t{np.median(idt_list)}\\t{max(idt_list)}\\t  {min(idt_list)}')\n"
   ]
  }
 ],
 "metadata": {
  "kernelspec": {
   "display_name": "Python 3",
   "language": "python",
   "name": "python3"
  },
  "language_info": {
   "codemirror_mode": {
    "name": "ipython",
    "version": 3
   },
   "file_extension": ".py",
   "mimetype": "text/x-python",
   "name": "python",
   "nbconvert_exporter": "python",
   "pygments_lexer": "ipython3",
   "version": "3.9.6 (default, Oct 18 2022, 12:41:40) \n[Clang 14.0.0 (clang-1400.0.29.202)]"
  },
  "orig_nbformat": 4,
  "vscode": {
   "interpreter": {
    "hash": "31f2aee4e71d21fbe5cf8b01ff0e069b9275f58929596ceb00d14d90e3e16cd6"
   }
  }
 },
 "nbformat": 4,
 "nbformat_minor": 2
}
